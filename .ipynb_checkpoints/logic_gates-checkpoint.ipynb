{
 "cells": [
  {
   "cell_type": "markdown",
   "metadata": {},
   "source": [
    "# Logic gates using RNA editing"
   ]
  },
  {
   "cell_type": "markdown",
   "metadata": {},
   "source": [
    "This notebook uses [Julia](https://julialang.org)"
   ]
  },
  {
   "cell_type": "code",
   "execution_count": 1,
   "metadata": {},
   "outputs": [
    {
     "name": "stderr",
     "output_type": "stream",
     "text": [
      "┌ Info: Precompiling Catalyst [479239e8-5488-4da2-87a7-35f2df7eef83]\n",
      "└ @ Base loading.jl:1317\n"
     ]
    }
   ],
   "source": [
    "using Catalyst #https://github.com/SciML/Catalyst.jl\n",
    "using DifferentialEquations #https://github.com/SciML/DifferentialEquations.jl\n",
    "using Plots #https://github.com/JuliaPlots/Plots.jl"
   ]
  },
  {
   "cell_type": "markdown",
   "metadata": {},
   "source": [
    "## A buffer gate using a single PPR editing factor to create a start codon"
   ]
  },
  {
   "cell_type": "markdown",
   "metadata": {},
   "source": [
    "<img src=\"img/buffer_gate.png\">"
   ]
  },
  {
   "cell_type": "code",
   "execution_count": 2,
   "metadata": {},
   "outputs": [
    {
     "data": {
      "text/latex": [
       "\\begin{align}\n",
       "\\require{mhchem}\n",
       "\\ce{ DNA &->[transcriptionrate] DNA + ACG}\\\\\n",
       "\\ce{ ACG + PPR &<=>[PPRonrate][PPRoffrate] ACG_{PPR}}\\\\\n",
       "\\ce{ AUG + PPR &<=>[PPRonrate][PPRoffrate] AUG_{PPR}}\\\\\n",
       "\\ce{ ACG_{PPR} &->[editingrate] AUG_{PPR}}\\\\\n",
       "\\ce{ AUG + R &<=>[ribosomeonrate][ribosomeAUGoffrate] AUG_{R}}\\\\\n",
       "\\ce{ AUG_{R} &->[AUGtranslationrate] GFP + AUG + R}\\\\\n",
       "\\ce{ ACG + R &<=>[ribosomeonrate][ribosomeACGoffrate] ACG_{R}}\\\\\n",
       "\\ce{ ACG_{R} &->[ACGtranslationrate] GFP + ACG + R}\\\\\n",
       "\\ce{ ACG &->[RNAdegradationrate] \\varnothing}\\\\\n",
       "\\ce{ AUG &->[RNAdegradationrate] \\varnothing}\\\\\n",
       "\\ce{ ACG_{R} &->[RNAdegradationrate] R}\\\\\n",
       "\\ce{ AUG_{R} &->[RNAdegradationrate] R}\\\\\n",
       "\\ce{ ACG_{PPR} &->[RNAdegradationrate] PPR}\\\\\n",
       "\\ce{ AUG_{PPR} &->[RNAdegradationrate] PPR}\\\\\n",
       "\\ce{ GFP &->[GFPdegradationrate] \\varnothing}\n",
       "\\end{align}\n"
      ],
      "text/plain": [
       "\u001b[0m\u001b[1mModel ##ReactionSystem#257 with 19 equations\u001b[22m\n",
       "\u001b[0m\u001b[1mStates (10):\u001b[22m\n",
       "  DNA(t)\n",
       "  ACG(t)\n",
       "  PPR(t)\n",
       "  ACG_PPR(t)\n",
       "  AUG(t)\n",
       "  AUG_PPR(t)\n",
       "⋮\n",
       "\u001b[0m\u001b[1mParameters (11):\u001b[22m\n",
       "  transcriptionrate\n",
       "  PPRonrate\n",
       "  PPRoffrate\n",
       "  editingrate\n",
       "  ribosomeonrate\n",
       "  ribosomeAUGoffrate\n",
       "⋮"
      ]
     },
     "execution_count": 2,
     "metadata": {},
     "output_type": "execute_result"
    }
   ],
   "source": [
    "rn = @reaction_network begin\n",
    "    transcriptionrate, DNA --> DNA + ACG\n",
    "    PPRonrate, ACG + PPR --> ACG_PPR\n",
    "    PPRoffrate, ACG_PPR --> ACG + PPR\n",
    "    PPRonrate, AUG + PPR --> AUG_PPR\n",
    "    PPRoffrate, AUG_PPR --> AUG + PPR\n",
    "    editingrate, ACG_PPR --> AUG_PPR\n",
    "    ribosomeonrate, AUG + R --> AUG_R\n",
    "    ribosomeAUGoffrate, AUG_R --> AUG + R\n",
    "    AUGtranslationrate, AUG_R --> GFP + AUG + R\n",
    "    ribosomeonrate, ACG + R --> ACG_R\n",
    "    ribosomeACGoffrate, ACG_R --> ACG + R\n",
    "    ACGtranslationrate, ACG_R --> GFP + ACG + R\n",
    "    RNAdegradationrate, ACG --> ∅\n",
    "    RNAdegradationrate, AUG --> ∅\n",
    "    RNAdegradationrate, ACG_R --> R\n",
    "    RNAdegradationrate, AUG_R --> R\n",
    "    RNAdegradationrate, ACG_PPR --> PPR\n",
    "    RNAdegradationrate, AUG_PPR --> PPR\n",
    "    GFPdegradationrate, GFP --> ∅\n",
    "end transcriptionrate PPRonrate PPRoffrate editingrate ribosomeonrate ribosomeAUGoffrate AUGtranslationrate ribosomeACGoffrate ACGtranslationrate RNAdegradationrate GFPdegradationrate  "
   ]
  },
  {
   "cell_type": "code",
   "execution_count": 3,
   "metadata": {},
   "outputs": [
    {
     "data": {
      "text/latex": [
       "\\begin{align}\n",
       "\\frac{dDNA(t)}{dt} =& 0 \\\\\n",
       "\\frac{dACG(t)}{dt} =& ACGtranslationrate \\mathrm{ACG\\_R}\\left( t \\right) + PPRoffrate \\mathrm{ACG\\_PPR}\\left( t \\right) + ribosomeACGoffrate \\mathrm{ACG\\_R}\\left( t \\right) + transcriptionrate \\mathrm{DNA}\\left( t \\right) - RNAdegradationrate \\mathrm{ACG}\\left( t \\right) - PPRonrate \\mathrm{ACG}\\left( t \\right) \\mathrm{PPR}\\left( t \\right) - ribosomeonrate \\mathrm{ACG}\\left( t \\right) R\\left( t \\right) \\\\\n",
       "\\frac{dPPR(t)}{dt} =& PPRoffrate \\mathrm{ACG\\_PPR}\\left( t \\right) + PPRoffrate \\mathrm{AUG\\_PPR}\\left( t \\right) + RNAdegradationrate \\mathrm{ACG\\_PPR}\\left( t \\right) + RNAdegradationrate \\mathrm{AUG\\_PPR}\\left( t \\right) - PPRonrate \\mathrm{ACG}\\left( t \\right) \\mathrm{PPR}\\left( t \\right) - PPRonrate \\mathrm{AUG}\\left( t \\right) \\mathrm{PPR}\\left( t \\right) \\\\\n",
       "\\frac{dACG_{PPR(t)}}{dt} =&  - PPRoffrate \\mathrm{ACG\\_PPR}\\left( t \\right) + PPRonrate \\mathrm{ACG}\\left( t \\right) \\mathrm{PPR}\\left( t \\right) - RNAdegradationrate \\mathrm{ACG\\_PPR}\\left( t \\right) - editingrate \\mathrm{ACG\\_PPR}\\left( t \\right) \\\\\n",
       "\\frac{dAUG(t)}{dt} =& AUGtranslationrate \\mathrm{AUG\\_R}\\left( t \\right) + PPRoffrate \\mathrm{AUG\\_PPR}\\left( t \\right) + ribosomeAUGoffrate \\mathrm{AUG\\_R}\\left( t \\right) - RNAdegradationrate \\mathrm{AUG}\\left( t \\right) - PPRonrate \\mathrm{AUG}\\left( t \\right) \\mathrm{PPR}\\left( t \\right) - ribosomeonrate \\mathrm{AUG}\\left( t \\right) R\\left( t \\right) \\\\\n",
       "\\frac{dAUG_{PPR(t)}}{dt} =& editingrate \\mathrm{ACG\\_PPR}\\left( t \\right) - PPRoffrate \\mathrm{AUG\\_PPR}\\left( t \\right) + PPRonrate \\mathrm{AUG}\\left( t \\right) \\mathrm{PPR}\\left( t \\right) - RNAdegradationrate \\mathrm{AUG\\_PPR}\\left( t \\right) \\\\\n",
       "\\frac{dR(t)}{dt} =& ACGtranslationrate \\mathrm{ACG\\_R}\\left( t \\right) + AUGtranslationrate \\mathrm{AUG\\_R}\\left( t \\right) + RNAdegradationrate \\mathrm{ACG\\_R}\\left( t \\right) + RNAdegradationrate \\mathrm{AUG\\_R}\\left( t \\right) + ribosomeACGoffrate \\mathrm{ACG\\_R}\\left( t \\right) + ribosomeAUGoffrate \\mathrm{AUG\\_R}\\left( t \\right) - ribosomeonrate \\mathrm{ACG}\\left( t \\right) R\\left( t \\right) - ribosomeonrate \\mathrm{AUG}\\left( t \\right) R\\left( t \\right) \\\\\n",
       "\\frac{dAUG_{R(t)}}{dt} =&  - AUGtranslationrate \\mathrm{AUG\\_R}\\left( t \\right) - RNAdegradationrate \\mathrm{AUG\\_R}\\left( t \\right) - ribosomeAUGoffrate \\mathrm{AUG\\_R}\\left( t \\right) + ribosomeonrate \\mathrm{AUG}\\left( t \\right) R\\left( t \\right) \\\\\n",
       "\\frac{dGFP(t)}{dt} =& ACGtranslationrate \\mathrm{ACG\\_R}\\left( t \\right) + AUGtranslationrate \\mathrm{AUG\\_R}\\left( t \\right) - GFPdegradationrate \\mathrm{GFP}\\left( t \\right) \\\\\n",
       "\\frac{dACG_{R(t)}}{dt} =&  - ACGtranslationrate \\mathrm{ACG\\_R}\\left( t \\right) - RNAdegradationrate \\mathrm{ACG\\_R}\\left( t \\right) - ribosomeACGoffrate \\mathrm{ACG\\_R}\\left( t \\right) + ribosomeonrate \\mathrm{ACG}\\left( t \\right) R\\left( t \\right)\n",
       "\\end{align}\n"
      ],
      "text/plain": [
       "\u001b[0m\u001b[1mModel ##ReactionSystem#257 with 10 equations\u001b[22m\n",
       "\u001b[0m\u001b[1mStates (10):\u001b[22m\n",
       "  DNA(t)\n",
       "  ACG(t)\n",
       "  PPR(t)\n",
       "  ACG_PPR(t)\n",
       "  AUG(t)\n",
       "  AUG_PPR(t)\n",
       "⋮\n",
       "\u001b[0m\u001b[1mParameters (11):\u001b[22m\n",
       "  transcriptionrate\n",
       "  PPRonrate\n",
       "  PPRoffrate\n",
       "  editingrate\n",
       "  ribosomeonrate\n",
       "  ribosomeAUGoffrate\n",
       "⋮"
      ]
     },
     "execution_count": 3,
     "metadata": {},
     "output_type": "execute_result"
    }
   ],
   "source": [
    "osys = convert(ODESystem, rn)"
   ]
  },
  {
   "cell_type": "code",
   "execution_count": 4,
   "metadata": {},
   "outputs": [
    {
     "data": {
      "text/plain": [
       "11-element Vector{Pair{Sym{Real, Base.ImmutableDict{DataType, Any}}, Float64}}:\n",
       "  transcriptionrate => 0.01\n",
       "          PPRonrate => 0.01\n",
       "         PPRoffrate => 0.001\n",
       "        editingrate => 0.1\n",
       "     ribosomeonrate => 0.01\n",
       " ribosomeAUGoffrate => 0.001\n",
       " AUGtranslationrate => 0.1\n",
       " ribosomeACGoffrate => 0.01\n",
       " ACGtranslationrate => 0.0001\n",
       " RNAdegradationrate => 0.0005\n",
       " GFPdegradationrate => 0.0005"
      ]
     },
     "execution_count": 4,
     "metadata": {},
     "output_type": "execute_result"
    }
   ],
   "source": [
    "#adjustable parameters\n",
    "PPRoffrate = 1e-3\n",
    "ribosomeAUGoffrate = 1e-3\n",
    "\n",
    "#fixed parameters\n",
    "transcriptionrate = 1e-2\n",
    "PPRonrate = 1e-2\n",
    "editingrate = 0.1\n",
    "ribosomeonrate = 1e-2\n",
    "AUGtranslationrate = 0.1\n",
    "ribosomeACGoffrate = 10 * ribosomeAUGoffrate\n",
    "ACGtranslationrate = 1e-4\n",
    "RNAdegradationrate = 5e-4\n",
    "GFPdegradationrate = 5e-4\n",
    "\n",
    "pmap = Pair.(params(rn), [transcriptionrate, PPRonrate, PPRoffrate, editingrate,\n",
    "        ribosomeonrate, ribosomeAUGoffrate, AUGtranslationrate, ribosomeACGoffrate, ACGtranslationrate,\n",
    "        RNAdegradationrate, GFPdegradationrate])"
   ]
  },
  {
   "cell_type": "code",
   "execution_count": 5,
   "metadata": {},
   "outputs": [
    {
     "data": {
      "text/plain": [
       "10-element Vector{Term{Real, Nothing}}:\n",
       " DNA(t)\n",
       " ACG(t)\n",
       " PPR(t)\n",
       " ACG_PPR(t)\n",
       " AUG(t)\n",
       " AUG_PPR(t)\n",
       " R(t)\n",
       " AUG_R(t)\n",
       " GFP(t)\n",
       " ACG_R(t)"
      ]
     },
     "execution_count": 5,
     "metadata": {},
     "output_type": "execute_result"
    }
   ],
   "source": [
    "species(rn)"
   ]
  },
  {
   "cell_type": "code",
   "execution_count": 6,
   "metadata": {},
   "outputs": [
    {
     "data": {
      "text/plain": [
       "10-element Vector{Pair{Term{Real, Nothing}, Int64}}:\n",
       "     DNA(t) => 100\n",
       "     ACG(t) => 0\n",
       "     PPR(t) => 100\n",
       " ACG_PPR(t) => 0\n",
       "     AUG(t) => 0\n",
       " AUG_PPR(t) => 0\n",
       "       R(t) => 100\n",
       "   AUG_R(t) => 0\n",
       "     GFP(t) => 0\n",
       "   ACG_R(t) => 0"
      ]
     },
     "execution_count": 6,
     "metadata": {},
     "output_type": "execute_result"
    }
   ],
   "source": [
    "# time interval to solve on\n",
    "tspan = (0.0, 10000.0)\n",
    "\n",
    "#adjustable parameter\n",
    "numPPR = 100\n",
    "\n",
    "#initial conditions at t=0\n",
    "u₀map  = Pair.(species(rn), [100,0,numPPR,0,0,0,100,0,0,0])"
   ]
  },
  {
   "cell_type": "code",
   "execution_count": null,
   "metadata": {},
   "outputs": [],
   "source": [
    "op = ODEProblem(osys, u₀map, tspan, pmap)\n",
    "sol   = solve(op, AutoTsit5(Rosenbrock23()));     # Tsit5 and Rosenbrock23 are ODE solvers"
   ]
  },
  {
   "cell_type": "code",
   "execution_count": null,
   "metadata": {},
   "outputs": [],
   "source": [
    "plot(sol, lw=2, xlabel=\"time (seconds)\", ylabel=\"number of molecules\")"
   ]
  },
  {
   "cell_type": "code",
   "execution_count": null,
   "metadata": {},
   "outputs": [],
   "source": [
    "plot(sol.t, [x[9] for x in sol.u], lw=2, legend=false, xlabel=\"time (seconds)\", ylabel=\"number of molecules\")"
   ]
  },
  {
   "cell_type": "markdown",
   "metadata": {},
   "source": [
    "## A NOT gate using a single PPR editing factor to create a stop codon"
   ]
  },
  {
   "cell_type": "markdown",
   "metadata": {},
   "source": [
    "<img src=\"img/NOT_gate.png\">"
   ]
  },
  {
   "cell_type": "code",
   "execution_count": null,
   "metadata": {},
   "outputs": [],
   "source": [
    "rn = @reaction_network begin\n",
    "    transcriptionrate, DNA --> DNA + CAA\n",
    "    PPRonrate, CAA + PPR --> CAA_PPR\n",
    "    PPRoffrate, CAA_PPR --> CAA + PPR\n",
    "    PPRonrate, UAA + PPR --> UAA_PPR\n",
    "    PPRoffrate, UAA_PPR --> UAA + PPR\n",
    "    editingrate, CAA_PPR --> UAA_PPR\n",
    "    ribosomeonrate, UAA + R --> UAA_R\n",
    "    ribosomeUAAoffrate, UAA_R --> UAA + R\n",
    "    ribosomeonrate, CAA + R --> CAA_R\n",
    "    ribosomeCAAoffrate, CAA_R --> CAA + R\n",
    "    CAAtranslationrate, CAA_R --> GFP + CAA + R\n",
    "    RNAdegradationrate, CAA --> ∅\n",
    "    RNAdegradationrate, UAA --> ∅\n",
    "    RNAdegradationrate, CAA_R --> R\n",
    "    RNAdegradationrate, UAA_R --> R\n",
    "    RNAdegradationrate, CAA_PPR --> PPR\n",
    "    RNAdegradationrate, UAA_PPR --> PPR\n",
    "    GFPdegradationrate, GFP --> ∅\n",
    "end transcriptionrate PPRonrate PPRoffrate editingrate ribosomeonrate ribosomeUAAoffrate ribosomeCAAoffrate CAAtranslationrate RNAdegradationrate GFPdegradationrate\n",
    "osys = convert(ODESystem, rn);"
   ]
  },
  {
   "cell_type": "code",
   "execution_count": null,
   "metadata": {},
   "outputs": [],
   "source": [
    "#adjustable parameters\n",
    "PPRoffrate = 1e-3\n",
    "ribosomeCAAoffrate = 1e-3\n",
    "\n",
    "#fixed parameters\n",
    "transcriptionrate = 1e-2\n",
    "PPRonrate = 1e-2\n",
    "editingrate = 0.1\n",
    "ribosomeonrate = 1e-2\n",
    "CAAtranslationrate = 0.1\n",
    "ribosomeUAAoffrate = 10 * ribosomeCAAoffrate\n",
    "RNAdegradationrate = 5e-4\n",
    "GFPdegradationrate = 5e-4\n",
    "\n",
    "pmap = Pair.(params(rn), [transcriptionrate, PPRonrate, PPRoffrate, editingrate,\n",
    "        ribosomeonrate, ribosomeCAAoffrate, CAAtranslationrate, ribosomeUAAoffrate,\n",
    "        RNAdegradationrate, GFPdegradationrate])"
   ]
  },
  {
   "cell_type": "code",
   "execution_count": null,
   "metadata": {},
   "outputs": [],
   "source": [
    "species(rn)"
   ]
  },
  {
   "cell_type": "code",
   "execution_count": null,
   "metadata": {},
   "outputs": [],
   "source": [
    "# time interval to solve on\n",
    "tspan = (0.0, 10000.0)\n",
    "\n",
    "#adjustable parameter\n",
    "numPPR = 100\n",
    "\n",
    "#initial conditions at t=0\n",
    "u₀map  = Pair.(species(rn), [100, 0, numPPR, 0, 0, 0, 100, 0, 0, 10000])"
   ]
  },
  {
   "cell_type": "code",
   "execution_count": null,
   "metadata": {},
   "outputs": [],
   "source": [
    "op = ODEProblem(osys, u₀map, tspan, pmap)\n",
    "sol   = solve(op, AutoTsit5(Rosenbrock23()));     # use Tsit5 or Rosenbrock23 ODE solver"
   ]
  },
  {
   "cell_type": "code",
   "execution_count": null,
   "metadata": {},
   "outputs": [],
   "source": [
    "plot(sol.t, [x[10] for x in sol.u], lw=2, legend = false)"
   ]
  },
  {
   "cell_type": "markdown",
   "metadata": {},
   "source": [
    "## An OR gate using two PPR editing factors to edit alternative start codons"
   ]
  },
  {
   "cell_type": "markdown",
   "metadata": {},
   "source": [
    "<img src=\"img/OR_gate.png\">"
   ]
  },
  {
   "cell_type": "code",
   "execution_count": null,
   "metadata": {},
   "outputs": [],
   "source": [
    "rn = @reaction_network begin\n",
    "    transcriptionrate, DNA --> DNA + ACGACG\n",
    "    PPRonrate, ACGACG + PPR1 --> ACGACG_PPR1\n",
    "    PPR1offrate, ACGACG_PPR1 --> ACGACG + PPR1\n",
    "    PPRonrate, ACGACG + PPR2 --> ACGACG_PPR2\n",
    "    PPR2offrate, ACGACG_PPR2 --> ACGACG + PPR2\n",
    "    PPRonrate, AUGACG + PPR1 --> AUGACG_PPR1\n",
    "    PPR1offrate, AUGACG_PPR1 --> AUGACG + PPR1\n",
    "    PPRonrate, AUGACG + PPR2 --> AUGACG_PPR2\n",
    "    PPR2offrate, AUGACG_PPR2 --> AUGACG + PPR2\n",
    "    PPRonrate, ACGAUG + PPR1 --> ACGAUG_PPR1\n",
    "    PPR1offrate, ACGAUG_PPR1 --> ACGAUG + PPR1\n",
    "    PPRonrate, ACGAUG + PPR2 --> ACGAUG_PPR2\n",
    "    PPR2offrate, ACGAUG_PPR2 --> ACGAUG + PPR2\n",
    "    PPRonrate, AUGAUG + PPR1 --> AUGAUG_PPR1\n",
    "    PPR1offrate, AUGAUG_PPR1 --> AUGAUG + PPR1\n",
    "    PPRonrate, AUGAUG + PPR2 --> AUGAUG_PPR2\n",
    "    PPR2offrate, AUGAUG_PPR2 --> AUGAUG + PPR2\n",
    "    editingrate, ACGACG_PPR1 --> AUGACG_PPR1\n",
    "    editingrate, ACGACG_PPR2 --> ACGAUG_PPR2\n",
    "    ribosomeonrate, ACGACG + R --> ACGACG_R\n",
    "    ribosomeACGoffrate, ACGACG_R --> ACGACG + R\n",
    "    ACGtranslationrate, ACGACG_R --> GFP + ACGACG + R\n",
    "    ribosomeonrate, AUGACG + R --> AUGACG_R\n",
    "    ribosomeAUGoffrate, AUGACG_R --> AUGACG + R\n",
    "    AUGtranslationrate, AUGACG_R --> GFP + AUGACG + R\n",
    "    ribosomeonrate, ACGAUG + R --> ACGAUG_R\n",
    "    ribosomeAUGoffrate, ACGAUG_R --> ACGAUG + R\n",
    "    AUGtranslationrate, ACGAUG_R --> GFP + ACGAUG + R\n",
    "    ribosomeonrate, AUGAUG + R --> AUGAUG_R\n",
    "    ribosomeAUGoffrate, AUGAUG_R --> AUGAUG + R\n",
    "    AUGtranslationrate, AUGAUG_R --> GFP + AUGAUG + R\n",
    "    RNAdegradationrate, ACGACG --> ∅\n",
    "    RNAdegradationrate, ACGAUG --> ∅\n",
    "    RNAdegradationrate, AUGACG --> ∅\n",
    "    RNAdegradationrate, AUGAUG --> ∅\n",
    "    RNAdegradationrate, ACGACG_R --> R\n",
    "    RNAdegradationrate, ACGAUG_R --> R\n",
    "    RNAdegradationrate, AUGACG_R --> R\n",
    "    RNAdegradationrate, AUGAUG_R --> R\n",
    "    RNAdegradationrate, ACGACG_PPR1 --> PPR1\n",
    "    RNAdegradationrate, ACGAUG_PPR1 --> PPR1\n",
    "    RNAdegradationrate, AUGACG_PPR1 --> PPR1\n",
    "    RNAdegradationrate, AUGAUG_PPR1 --> PPR1\n",
    "    RNAdegradationrate, ACGACG_PPR2 --> PPR2\n",
    "    RNAdegradationrate, ACGAUG_PPR2 --> PPR2\n",
    "    RNAdegradationrate, AUGACG_PPR2 --> PPR2\n",
    "    RNAdegradationrate, AUGAUG_PPR2 --> PPR2\n",
    "    GFPdegradationrate, GFP --> ∅\n",
    "end transcriptionrate PPRonrate PPR1offrate PPR2offrate editingrate ribosomeonrate ribosomeACGoffrate ACGtranslationrate ribosomeAUGoffrate AUGtranslationrate RNAdegradationrate GFPdegradationrate\n",
    "osys = convert(ODESystem, rn);"
   ]
  },
  {
   "cell_type": "markdown",
   "metadata": {},
   "source": [
    "The ideal result should look like this:"
   ]
  },
  {
   "cell_type": "code",
   "execution_count": null,
   "metadata": {},
   "outputs": [],
   "source": [
    "heatmap([[0,1] [1,1]], c = palette(:linear_green_5_95_c69_n256), ratio = :equal, xlims=(1,2), ylims=(1,2),\n",
    "    size=(200,200), xticks=[], yticks=[], xlabel=\"[PPR1]\", ylabel=\"[PPR2]\")"
   ]
  },
  {
   "cell_type": "code",
   "execution_count": null,
   "metadata": {},
   "outputs": [],
   "source": [
    "#adjustable parameters\n",
    "PPR1offrate = 1e-3\n",
    "PPR2offrate = 1e-3\n",
    "ribosomeAUGoffrate = 1e-3\n",
    "\n",
    "#fixed parameters\n",
    "transcriptionrate = 1e-2\n",
    "PPRonrate = 1e-2\n",
    "editingrate = 0.1\n",
    "ribosomeonrate = 1e-2\n",
    "AUGtranslationrate = 0.1\n",
    "ribosomeACGoffrate = 10 * ribosomeAUGoffrate\n",
    "ACGtranslationrate = 1e-4\n",
    "RNAdegradationrate = 5e-4\n",
    "GFPdegradationrate = 5e-4\n",
    "\n",
    "p = (transcriptionrate, PPRonrate, PPR1offrate, PPR2offrate, editingrate,\n",
    "        ribosomeonrate, ribosomeACGoffrate, ACGtranslationrate, ribosomeAUGoffrate, AUGtranslationrate,\n",
    "        RNAdegradationrate, GFPdegradationrate);"
   ]
  },
  {
   "cell_type": "code",
   "execution_count": null,
   "metadata": {},
   "outputs": [],
   "source": [
    "#initial conditions at t=0\n",
    "u₀ = [100., 0., 0., 0., 0., 0., 0., 0., 0., 0., 0., 0., 0., 0., 0., 100., 0., 0., 0., 0., 0.]\n",
    "steps = 20\n",
    "results = zeros(Float64,steps,steps)\n",
    "dynamic_range = exp10.(range(0, stop=3, length=steps)) # 1 - 1000 molecules per 'cell'\n",
    "#dynamic_range = range(1, stop=1000, length=steps) # 1 - 1000 molecules per 'cell'\n",
    "for (i, amount1) in enumerate(dynamic_range), (j, amount2) in enumerate(dynamic_range)\n",
    "    u₀[3] = amount1\n",
    "    u₀[5] = amount2\n",
    "    u₀map  = Pair.(species(rn), u₀)\n",
    "    ssprob = SteadyStateProblem(rn, u₀, p)\n",
    "    sssol  = solve(ssprob, DynamicSS(AutoTsit5(Rosenbrock23())))\n",
    "    results[i,j] = sssol.u[18]\n",
    "end"
   ]
  },
  {
   "cell_type": "code",
   "execution_count": null,
   "metadata": {},
   "outputs": [],
   "source": [
    "heatmap(results, c = palette(:linear_green_5_95_c69_n256), ratio = :equal, \n",
    "    xlims=(0.5,steps+0.5), ylims=(0.5,steps+0.5),\n",
    "    xticks=[], yticks=[], xlabel=\"[PPR1]\", ylabel=\"[PPR2]\")"
   ]
  },
  {
   "cell_type": "markdown",
   "metadata": {},
   "source": [
    "## A NOR gate using two PPR editing factors to edit alternative stop codons"
   ]
  },
  {
   "cell_type": "markdown",
   "metadata": {},
   "source": [
    "<img src=\"img/NOR_gate.png\">"
   ]
  },
  {
   "cell_type": "code",
   "execution_count": null,
   "metadata": {},
   "outputs": [],
   "source": [
    "rn = @reaction_network begin\n",
    "    transcriptionrate, DNA --> DNA + CAACAA\n",
    "    PPRonrate, CAACAA + PPR1 --> CAACAA_PPR1\n",
    "    PPR1offrate, CAACAA_PPR1 --> CAACAA + PPR1\n",
    "    PPRonrate, CAACAA + PPR2 --> CAACAA_PPR2\n",
    "    PPR2offrate, CAACAA_PPR2 --> CAACAA + PPR2\n",
    "    PPRonrate, UAACAA + PPR1 --> UAACAA_PPR1\n",
    "    PPR1offrate, UAACAA_PPR1 --> UAACAA + PPR1\n",
    "    PPRonrate, UAACAA + PPR2 --> UAACAA_PPR2\n",
    "    PPR2offrate, UAACAA_PPR2 --> UAACAA + PPR2\n",
    "    PPRonrate, CAAUAA + PPR1 --> CAAUAA_PPR1\n",
    "    PPR1offrate, CAAUAA_PPR1 --> CAAUAA + PPR1\n",
    "    PPRonrate, CAAUAA + PPR2 --> CAAUAA_PPR2\n",
    "    PPR2offrate, CAAUAA_PPR2 --> CAAUAA + PPR2\n",
    "    PPRonrate, UAAUAA + PPR1 --> UAAUAA_PPR1\n",
    "    PPR1offrate, UAAUAA_PPR1 --> UAAUAA + PPR1\n",
    "    PPRonrate, UAAUAA + PPR2 --> UAAUAA_PPR2\n",
    "    PPR2offrate, UAAUAA_PPR2 --> UAAUAA + PPR2\n",
    "    editingrate, CAACAA_PPR1 --> UAACAA_PPR1\n",
    "    editingrate, CAACAA_PPR2 --> CAAUAA_PPR2\n",
    "    ribosomeonrate, CAACAA + R --> CAACAA_R\n",
    "    ribosomeCAAoffrate, CAACAA_R --> CAACAA + R\n",
    "    CAAtranslationrate, CAACAA_R --> GFP + CAACAA + R\n",
    "    ribosomeonrate, UAACAA + R --> UAACAA_R\n",
    "    ribosomeUAAoffrate, UAACAA_R --> UAACAA + R\n",
    "    ribosomeonrate, CAAUAA + R --> CAAUAA_R\n",
    "    ribosomeUAAoffrate, CAAUAA_R --> CAAUAA + R\n",
    "    ribosomeonrate, UAAUAA + R --> UAAUAA_R\n",
    "    ribosomeUAAoffrate, UAAUAA_R --> UAAUAA + R\n",
    "    RNAdegradationrate, CAACAA --> ∅\n",
    "    RNAdegradationrate, CAAUAA --> ∅\n",
    "    RNAdegradationrate, UAACAA --> ∅\n",
    "    RNAdegradationrate, UAAUAA --> ∅\n",
    "    RNAdegradationrate, CAACAA_R --> R\n",
    "    RNAdegradationrate, CAAUAA_R --> R\n",
    "    RNAdegradationrate, UAACAA_R --> R\n",
    "    RNAdegradationrate, UAAUAA_R --> R\n",
    "    RNAdegradationrate, CAACAA_PPR1 --> PPR1\n",
    "    RNAdegradationrate, CAAUAA_PPR1 --> PPR1\n",
    "    RNAdegradationrate, UAACAA_PPR1 --> PPR1\n",
    "    RNAdegradationrate, UAAUAA_PPR1 --> PPR1\n",
    "    RNAdegradationrate, CAACAA_PPR2 --> PPR2\n",
    "    RNAdegradationrate, CAAUAA_PPR2 --> PPR2\n",
    "    RNAdegradationrate, UAACAA_PPR2 --> PPR2\n",
    "    RNAdegradationrate, UAAUAA_PPR2 --> PPR2\n",
    "    GFPdegradationrate, GFP --> ∅\n",
    "end transcriptionrate PPRonrate PPR1offrate PPR2offrate editingrate ribosomeonrate ribosomeCAAoffrate CAAtranslationrate ribosomeUAAoffrate RNAdegradationrate GFPdegradationrate\n",
    "osys = convert(ODESystem, rn);"
   ]
  },
  {
   "cell_type": "markdown",
   "metadata": {},
   "source": [
    "The ideal result should look like this:"
   ]
  },
  {
   "cell_type": "code",
   "execution_count": null,
   "metadata": {},
   "outputs": [],
   "source": [
    "heatmap([[1,0] [0,0]], c = palette(:linear_green_5_95_c69_n256), ratio = :equal, xlims=(1,2), ylims=(1,2),\n",
    "    size=(200,200), xticks=[], yticks=[], xlabel=\"[PPR1]\", ylabel=\"[PPR2]\")"
   ]
  },
  {
   "cell_type": "code",
   "execution_count": null,
   "metadata": {},
   "outputs": [],
   "source": [
    "#adjustable parameters\n",
    "PPR1offrate = 1e-3\n",
    "PPR2offrate = 1e-3\n",
    "ribosomeCAAoffrate = 1e-3\n",
    "\n",
    "#fixed parameters\n",
    "transcriptionrate = 1e-2\n",
    "PPRonrate = 1e-2\n",
    "editingrate = 0.1\n",
    "ribosomeonrate = 1e-2\n",
    "CAAtranslationrate = 0.1\n",
    "ribosomeUAAoffrate = 10 * ribosomeCAAoffrate\n",
    "RNAdegradationrate = 5e-4\n",
    "GFPdegradationrate = 5e-4\n",
    "\n",
    "p = (transcriptionrate, PPRonrate, PPR1offrate, PPR2offrate, editingrate,\n",
    "        ribosomeonrate, ribosomeCAAoffrate, CAAtranslationrate, ribosomeUAAoffrate,\n",
    "        RNAdegradationrate, GFPdegradationrate);"
   ]
  },
  {
   "cell_type": "code",
   "execution_count": null,
   "metadata": {},
   "outputs": [],
   "source": [
    "#initial conditions at t=0\n",
    "u₀ = [100., 0., 0., 0., 0., 0., 0., 0., 0., 0., 0., 0., 0., 0., 0., 100., 0., 0., 0., 0., 0.]\n",
    "steps = 20\n",
    "results = zeros(Float64,steps,steps)\n",
    "dynamic_range = exp10.(range(0, stop=3, length=steps)) # 1 - 1000 molecules per 'cell'\n",
    "#dynamic_range = range(1, stop=1000, length=steps) # 1 - 1000 molecules per 'cell'\n",
    "for (i, amount1) in enumerate(dynamic_range), (j, amount2) in enumerate(dynamic_range)\n",
    "    u₀[3] = amount1\n",
    "    u₀[5] = amount2\n",
    "    u₀map  = Pair.(species(rn), u₀)\n",
    "    ssprob = SteadyStateProblem(rn, u₀, p)\n",
    "    sssol  = solve(ssprob, DynamicSS(AutoTsit5(Rosenbrock23())))\n",
    "    results[i,j] = sssol.u[18]\n",
    "end"
   ]
  },
  {
   "cell_type": "code",
   "execution_count": null,
   "metadata": {},
   "outputs": [],
   "source": [
    "heatmap(results, c = palette(:linear_green_5_95_c69_n256), ratio = :equal, \n",
    "    xlims=(0.5,steps+0.5), ylims=(0.5,steps+0.5),\n",
    "    xticks=[], yticks=[], xlabel=\"[PPR1]\", ylabel=\"[PPR2]\")"
   ]
  },
  {
   "cell_type": "markdown",
   "metadata": {},
   "source": [
    "## An AND gate using two PPR editing factors: one to edit the start codon, the other to edit the first PPR's binding site"
   ]
  },
  {
   "cell_type": "markdown",
   "metadata": {},
   "source": [
    "<img src=\"img/AND_gate.png\">"
   ]
  },
  {
   "cell_type": "code",
   "execution_count": null,
   "metadata": {},
   "outputs": [],
   "source": [
    "rn = @reaction_network begin\n",
    "    transcriptionrate, DNA --> DNA + CACG\n",
    "    PPRonrate, CACG + PPR1 --> CACG_PPR1\n",
    "    PPR1offrate, CACG_PPR1 --> CACG + PPR1\n",
    "    PPRonrate, UACG + PPR1 --> UACG_PPR1\n",
    "    PPR1offrate, UACG_PPR1 --> UACG + PPR1\n",
    "    PPRonrate, UACG + PPR2 --> UACG_PPR2\n",
    "    PPR2offrate, UACG_PPR2 --> UACG + PPR2\n",
    "    PPRonrate, UAUG + PPR1 --> UAUG_PPR1\n",
    "    PPR1offrate, UAUG_PPR1 --> UAUG + PPR1\n",
    "    PPRonrate, UAUG + PPR2 --> UAUG_PPR2\n",
    "    PPR2offrate, UAUG_PPR2 --> UAUG + PPR2\n",
    "    editingrate, CACG_PPR1 --> UACG_PPR1\n",
    "    editingrate, UACG_PPR2 --> UAUG_PPR2\n",
    "    ribosomeonrate, CACG + R --> CACG_R\n",
    "    ribosomeACGoffrate, CACG_R --> CACG + R\n",
    "    ACGtranslationrate, CACG_R --> GFP + CACG + R\n",
    "    ribosomeonrate, UACG + R --> UACG_R\n",
    "    ribosomeACGoffrate, UACG_R --> UACG + R\n",
    "    ACGtranslationrate, UACG_R --> GFP + UACG + R\n",
    "    ribosomeonrate, UAUG + R --> UAUG_R\n",
    "    ribosomeAUGoffrate, UAUG_R --> UAUG + R\n",
    "    AUGtranslationrate, UAUG_R --> GFP + UAUG + R\n",
    "    RNAdegradationrate, CACG --> ∅\n",
    "    RNAdegradationrate, UACG --> ∅\n",
    "    RNAdegradationrate, UAUG --> ∅\n",
    "    RNAdegradationrate, CACG_R --> R\n",
    "    RNAdegradationrate, UACG_R --> R\n",
    "    RNAdegradationrate, UAUG_R --> R\n",
    "    RNAdegradationrate, CACG_PPR1 --> PPR1\n",
    "    RNAdegradationrate, UACG_PPR1 --> PPR1\n",
    "    RNAdegradationrate, UAUG_PPR1 --> PPR1\n",
    "    RNAdegradationrate, CACG_PPR2 --> PPR2\n",
    "    RNAdegradationrate, UACG_PPR2 --> PPR2\n",
    "    RNAdegradationrate, UAUG_PPR2 --> PPR2\n",
    "    GFPdegradationrate, GFP --> ∅\n",
    "end transcriptionrate PPRonrate PPR1offrate PPR2offrate editingrate ribosomeonrate ribosomeACGoffrate ACGtranslationrate ribosomeAUGoffrate AUGtranslationrate RNAdegradationrate GFPdegradationrate\n",
    "osys = convert(ODESystem, rn);"
   ]
  },
  {
   "cell_type": "markdown",
   "metadata": {},
   "source": [
    "The ideal result should look like this:"
   ]
  },
  {
   "cell_type": "code",
   "execution_count": null,
   "metadata": {},
   "outputs": [],
   "source": [
    "heatmap([[0,0] [0,1]], c = palette(:linear_green_5_95_c69_n256), ratio = :equal, xlims=(1,2), ylims=(1,2),\n",
    "    size=(200,200), xticks=[], yticks=[], xlabel=\"[PPR1]\", ylabel=\"[PPR2]\")"
   ]
  },
  {
   "cell_type": "code",
   "execution_count": null,
   "metadata": {},
   "outputs": [],
   "source": [
    "#adjustable parameters\n",
    "PPR1offrate = 1e-3\n",
    "PPR2offrate = 1e-3\n",
    "ribosomeAUGoffrate = 1e-3\n",
    "\n",
    "#fixed parameters\n",
    "transcriptionrate = 1e-2\n",
    "PPRonrate = 1e-2\n",
    "#PPR2mismatchoffrate = 1000 * PPR2offrate\n",
    "editingrate = 0.1\n",
    "ribosomeonrate = 1e-2\n",
    "AUGtranslationrate = 0.1\n",
    "ribosomeACGoffrate = 10 * ribosomeAUGoffrate\n",
    "ACGtranslationrate = 1e-4\n",
    "RNAdegradationrate = 5e-4\n",
    "GFPdegradationrate = 5e-4\n",
    "\n",
    "p = (transcriptionrate, PPRonrate, PPR1offrate, PPR2offrate, editingrate,\n",
    "        ribosomeonrate, ribosomeACGoffrate, ACGtranslationrate, ribosomeAUGoffrate, AUGtranslationrate,\n",
    "        RNAdegradationrate, GFPdegradationrate);"
   ]
  },
  {
   "cell_type": "code",
   "execution_count": null,
   "metadata": {},
   "outputs": [],
   "source": [
    "#initial conditions at t=0\n",
    "u₀ = [100., 0., 0., 0., 0., 0., 0., 0., 0., 0., 0., 100., 0., 0., 0., 0., 0.]\n",
    "steps = 20\n",
    "results = zeros(Float64,steps,steps)\n",
    "dynamic_range = exp10.(range(0, stop=3, length=steps)) # 1 - 1000 molecules per 'cell'\n",
    "#dynamic_range = range(1, stop=1000, length=steps) # 1 - 1000 molecules per 'cell'\n",
    "for (i, amount1) in enumerate(dynamic_range), (j, amount2) in enumerate(dynamic_range)\n",
    "    u₀[3] = amount1\n",
    "    u₀[7] = amount2\n",
    "    u₀map  = Pair.(species(rn), u₀)\n",
    "    ssprob = SteadyStateProblem(rn, u₀, p)\n",
    "    sssol  = solve(ssprob, DynamicSS(AutoTsit5(Rosenbrock23())))\n",
    "    results[i,j] = sssol.u[14]\n",
    "end"
   ]
  },
  {
   "cell_type": "code",
   "execution_count": null,
   "metadata": {},
   "outputs": [],
   "source": [
    "heatmap(results, c = palette(:linear_green_5_95_c69_n256), ratio = :equal, \n",
    "    xlims=(0.5,steps+0.5), ylims=(0.5,steps+0.5),\n",
    "    xticks=[], yticks=[], xlabel=\"[PPR1]\", ylabel=\"[PPR2]\")"
   ]
  },
  {
   "cell_type": "markdown",
   "metadata": {},
   "source": [
    "## A NAND gate using two PPR editing factors: one to edit a stop codon, the other to edit the first PPR's binding site"
   ]
  },
  {
   "cell_type": "markdown",
   "metadata": {},
   "source": [
    "<img src=\"img/NAND_gate.png\">"
   ]
  },
  {
   "cell_type": "code",
   "execution_count": null,
   "metadata": {},
   "outputs": [],
   "source": [
    "rn = @reaction_network begin\n",
    "    transcriptionrate, DNA --> DNA + CCAA\n",
    "    PPRonrate, CCAA + PPR1 --> CCAA_PPR1\n",
    "    PPR1offrate, CCAA_PPR1 --> CCAA + PPR1\n",
    "    PPRonrate, UCAA + PPR1 --> UCAA_PPR1\n",
    "    PPR1offrate, UCAA_PPR1 --> UCAA + PPR1\n",
    "    PPRonrate, UCAA + PPR2 --> UCAA_PPR2\n",
    "    PPR2offrate, UCAA_PPR2 --> UCAA + PPR2\n",
    "    PPRonrate, UUAA + PPR1 --> UUAA_PPR1\n",
    "    PPR1offrate, UUAA_PPR1 --> UUAA + PPR1\n",
    "    PPRonrate, UUAA + PPR2 --> UUAA_PPR2\n",
    "    PPR2offrate, UUAA_PPR2 --> UUAA + PPR2\n",
    "    editingrate, CCAA_PPR1 --> UCAA_PPR1\n",
    "    editingrate, UCAA_PPR2 --> UUAA_PPR2\n",
    "    ribosomeonrate, CCAA + R --> CCAA_R\n",
    "    ribosomeCAAoffrate, CCAA_R --> CCAA + R\n",
    "    CAAtranslationrate, CCAA_R --> GFP + CCAA + R\n",
    "    ribosomeonrate, UCAA + R --> UCAA_R\n",
    "    ribosomeCAAoffrate, UCAA_R --> UCAA + R\n",
    "    CAAtranslationrate, UCAA_R --> GFP + UCAA + R\n",
    "    ribosomeonrate, UUAA + R --> UUAA_R\n",
    "    ribosomeUAAoffrate, UUAA_R --> UUAA + R\n",
    "    RNAdegradationrate, CCAA --> ∅\n",
    "    RNAdegradationrate, UCAA --> ∅\n",
    "    RNAdegradationrate, UUAA --> ∅\n",
    "    RNAdegradationrate, CCAA_R --> R\n",
    "    RNAdegradationrate, UCAA_R --> R\n",
    "    RNAdegradationrate, UUAA_R --> R\n",
    "    RNAdegradationrate, CCAA_PPR1 --> PPR1\n",
    "    RNAdegradationrate, UCAA_PPR1 --> PPR1\n",
    "    RNAdegradationrate, UUAA_PPR1 --> PPR1\n",
    "    RNAdegradationrate, CCAA_PPR2 --> PPR2\n",
    "    RNAdegradationrate, UCAA_PPR2 --> PPR2\n",
    "    RNAdegradationrate, UUAA_PPR2 --> PPR2\n",
    "    GFPdegradationrate, GFP --> ∅\n",
    "end transcriptionrate PPRonrate PPR1offrate PPR2offrate editingrate ribosomeonrate ribosomeCAAoffrate CAAtranslationrate ribosomeUAAoffrate RNAdegradationrate GFPdegradationrate\n",
    "osys = convert(ODESystem, rn);"
   ]
  },
  {
   "cell_type": "code",
   "execution_count": null,
   "metadata": {},
   "outputs": [],
   "source": [
    "#adjustable parameters\n",
    "PPR1offrate = 1e-3\n",
    "PPR2offrate = 1e-3\n",
    "ribosomeCAAoffrate = 1e-3\n",
    "\n",
    "#fixed parameters\n",
    "transcriptionrate = 1e-2\n",
    "PPRonrate = 1e-2\n",
    "editingrate = 0.1\n",
    "ribosomeonrate = 1e-2\n",
    "CAAtranslationrate = 0.1\n",
    "ribosomeUAAoffrate = 10 * ribosomeCAAoffrate\n",
    "RNAdegradationrate = 5e-4\n",
    "GFPdegradationrate = 5e-4\n",
    "\n",
    "p = (transcriptionrate, PPRonrate, PPR1offrate, PPR2offrate, editingrate,\n",
    "        ribosomeonrate, ribosomeCAAoffrate, CAAtranslationrate, ribosomeUAAoffrate,\n",
    "        RNAdegradationrate, GFPdegradationrate);"
   ]
  },
  {
   "cell_type": "markdown",
   "metadata": {},
   "source": [
    "The ideal result should look like this:"
   ]
  },
  {
   "cell_type": "code",
   "execution_count": null,
   "metadata": {},
   "outputs": [],
   "source": [
    "heatmap([[1,1] [1,0]], c = palette(:linear_green_5_95_c69_n256), ratio = :equal, xlims=(1,2), ylims=(1,2),\n",
    "    size=(200,200), xticks=[], yticks=[], xlabel=\"[PPR1]\", ylabel=\"[PPR2]\")"
   ]
  },
  {
   "cell_type": "code",
   "execution_count": null,
   "metadata": {},
   "outputs": [],
   "source": [
    "#initial conditions at t=0\n",
    "u₀ = [100., 0., 0., 0., 0., 0., 0., 0., 0., 0., 0., 100., 0., 0., 0., 0., 0.]\n",
    "steps = 20\n",
    "results = zeros(Float64,steps,steps)\n",
    "dynamic_range = exp10.(range(0, stop=3, length=steps)) # 1 - 1000 molecules per 'cell'\n",
    "#dynamic_range = range(1, stop=1000, length=steps) # 1 - 1000 molecules per 'cell'\n",
    "for (i, amount1) in enumerate(dynamic_range), (j, amount2) in enumerate(dynamic_range)\n",
    "    u₀[3] = amount1\n",
    "    u₀[7] = amount2\n",
    "    u₀map  = Pair.(species(rn), u₀)\n",
    "    ssprob = SteadyStateProblem(rn, u₀, p)\n",
    "    sssol  = solve(ssprob, DynamicSS(AutoTsit5(Rosenbrock23())))\n",
    "    results[i,j] = sssol.u[14]\n",
    "end"
   ]
  },
  {
   "cell_type": "code",
   "execution_count": null,
   "metadata": {},
   "outputs": [],
   "source": [
    "heatmap(results, c = palette(:linear_green_5_95_c69_n256), ratio = :equal, \n",
    "    xlims=(0.5,steps+0.5), ylims=(0.5,steps+0.5),\n",
    "    xticks=[], yticks=[], xlabel=\"[PPR1]\", ylabel=\"[PPR2]\")"
   ]
  },
  {
   "cell_type": "code",
   "execution_count": null,
   "metadata": {},
   "outputs": [],
   "source": []
  }
 ],
 "metadata": {
  "kernelspec": {
   "display_name": "Julia 1.6.0",
   "language": "julia",
   "name": "julia-1.6"
  },
  "language_info": {
   "file_extension": ".jl",
   "mimetype": "application/julia",
   "name": "julia",
   "version": "1.6.0"
  }
 },
 "nbformat": 4,
 "nbformat_minor": 4
}
