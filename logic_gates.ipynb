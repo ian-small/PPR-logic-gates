{
 "cells": [
  {
   "cell_type": "markdown",
   "metadata": {},
   "source": [
    "# Logic gates using RNA editing"
   ]
  },
  {
   "cell_type": "markdown",
   "metadata": {},
   "source": [
    "This notebook uses [Julia](https://julialang.org)"
   ]
  },
  {
   "cell_type": "code",
   "execution_count": null,
   "metadata": {},
   "outputs": [],
   "source": [
    "using Catalyst #https://github.com/SciML/Catalyst.jl\n",
    "using DifferentialEquations #https://github.com/SciML/DifferentialEquations.jl\n",
    "using Plots #https://github.com/JuliaPlots/Plots.jl"
   ]
  },
  {
   "cell_type": "markdown",
   "metadata": {},
   "source": [
    "## A buffer gate using a single PPR editing factor to create a start codon"
   ]
  },
  {
   "cell_type": "markdown",
   "metadata": {},
   "source": [
    "<img src=\"img/buffer_gate.png\">"
   ]
  },
  {
   "cell_type": "code",
   "execution_count": null,
   "metadata": {},
   "outputs": [],
   "source": [
    "rn = @reaction_network begin\n",
    "    transcriptionrate, DNA --> DNA + ACG\n",
    "    PPRonrate, ACG + PPR --> ACG_PPR\n",
    "    PPRoffrate, ACG_PPR --> ACG + PPR\n",
    "    PPRonrate, AUG + PPR --> AUG_PPR\n",
    "    PPRoffrate, AUG_PPR --> AUG + PPR\n",
    "    editingrate, ACG_PPR --> AUG_PPR\n",
    "    ribosomeonrate, AUG + R --> AUG_R\n",
    "    ribosomeAUGoffrate, AUG_R --> AUG + R\n",
    "    AUGtranslationrate, AUG_R --> GFP + AUG + R\n",
    "    ribosomeonrate, ACG + R --> ACG_R\n",
    "    ribosomeACGoffrate, ACG_R --> ACG + R\n",
    "    ACGtranslationrate, ACG_R --> GFP + ACG + R\n",
    "    RNAdegradationrate, ACG --> ∅\n",
    "    RNAdegradationrate, AUG --> ∅\n",
    "    GFPdegradationrate, GFP --> ∅\n",
    "end"
   ]
  },
  {
   "cell_type": "code",
   "execution_count": null,
   "metadata": {},
   "outputs": [],
   "source": [
    "osys = convert(ODESystem, rn)"
   ]
  },
  {
   "cell_type": "code",
   "execution_count": null,
   "metadata": {},
   "outputs": [],
   "source": [
    "#adjustable parameters\n",
    "PPRoffrate = 1e-3\n",
    "ribosomeAUGoffrate = 1e-3\n",
    "\n",
    "#fixed parameters\n",
    "transcriptionrate = 1e-2\n",
    "PPRonrate = 1e-2\n",
    "editingrate = 0.1\n",
    "ribosomeonrate = 1e-2\n",
    "AUGtranslationrate = 0.1\n",
    "ribosomeACGoffrate = 10 * ribosomeAUGoffrate\n",
    "ACGtranslationrate = 1e-4\n",
    "RNAdegradationrate = 5e-4\n",
    "GFPdegradationrate = 5e-4\n",
    "\n",
    "pmap = Pair.(parameters(rn), [transcriptionrate, PPRonrate, PPRoffrate, editingrate,\n",
    "       ribosomeonrate, ribosomeAUGoffrate, AUGtranslationrate, ribosomeACGoffrate, ACGtranslationrate,\n",
    "        RNAdegradationrate, GFPdegradationrate])"
   ]
  },
  {
   "cell_type": "code",
   "execution_count": null,
   "metadata": {},
   "outputs": [],
   "source": [
    "# time interval to solve on\n",
    "tspan = (0.0, 10000.0)\n",
    "\n",
    "#adjustable parameter\n",
    "numPPR = 100\n",
    "\n",
    "#initial conditions at t=0\n",
    "u₀map  = Pair.(species(rn), [100,0,numPPR,0,0,0,100,0,0,0])"
   ]
  },
  {
   "cell_type": "code",
   "execution_count": null,
   "metadata": {},
   "outputs": [],
   "source": [
    "op = ODEProblem(osys, u₀map, tspan, pmap)\n",
    "sol   = solve(op, AutoTsit5(Rosenbrock23()));     # Tsit5 and Rosenbrock23 are ODE solvers"
   ]
  },
  {
   "cell_type": "code",
   "execution_count": null,
   "metadata": {},
   "outputs": [],
   "source": [
    "plot(sol, lw=2, xguide=\"time (seconds)\", yguide=\"number of molecules\")"
   ]
  },
  {
   "cell_type": "code",
   "execution_count": null,
   "metadata": {},
   "outputs": [],
   "source": [
    "plot(sol.t, [x[9] for x in sol.u], lw=2, xguide=\"time (seconds)\", yguide=\"number of molecules\", label=\"GFP\", color=:limegreen)"
   ]
  },
  {
   "cell_type": "markdown",
   "metadata": {},
   "source": [
    "## A NOT gate using a single PPR editing factor to create a stop codon"
   ]
  },
  {
   "cell_type": "markdown",
   "metadata": {},
   "source": [
    "<img src=\"img/NOT_gate.png\">"
   ]
  },
  {
   "cell_type": "code",
   "execution_count": null,
   "metadata": {},
   "outputs": [],
   "source": [
    "rn = @reaction_network begin\n",
    "    transcriptionrate, DNA --> DNA + CAA\n",
    "    PPRonrate, CAA + PPR --> CAA_PPR\n",
    "    PPRoffrate, CAA_PPR --> CAA + PPR\n",
    "    PPRonrate, UAA + PPR --> UAA_PPR\n",
    "    PPRoffrate, UAA_PPR --> UAA + PPR\n",
    "    editingrate, CAA_PPR --> UAA_PPR\n",
    "    ribosomeonrate, UAA + R --> UAA_R\n",
    "    ribosomeUAAoffrate, UAA_R --> UAA + R\n",
    "    ribosomeonrate, CAA + R --> CAA_R\n",
    "    ribosomeCAAoffrate, CAA_R --> CAA + R\n",
    "    CAAtranslationrate, CAA_R --> GFP + CAA + R\n",
    "    RNAdegradationrate, CAA --> ∅\n",
    "    RNAdegradationrate, UAA --> ∅\n",
    "    GFPdegradationrate, GFP --> ∅\n",
    "end\n",
    "osys = convert(ODESystem, rn);"
   ]
  },
  {
   "cell_type": "code",
   "execution_count": null,
   "metadata": {},
   "outputs": [],
   "source": [
    "#adjustable parameters\n",
    "PPRoffrate = 1e-3\n",
    "ribosomeCAAoffrate = 1e-3\n",
    "\n",
    "#fixed parameters\n",
    "transcriptionrate = 1e-2\n",
    "PPRonrate = 1e-2\n",
    "editingrate = 0.1\n",
    "ribosomeonrate = 1e-2\n",
    "CAAtranslationrate = 0.1\n",
    "ribosomeUAAoffrate = 10 * ribosomeCAAoffrate\n",
    "RNAdegradationrate = 5e-4\n",
    "GFPdegradationrate = 5e-4\n",
    "\n",
    "pmap = Pair.(parameters(rn), [transcriptionrate, PPRonrate, PPRoffrate, editingrate,\n",
    "        ribosomeonrate, ribosomeCAAoffrate, CAAtranslationrate, ribosomeUAAoffrate,\n",
    "        RNAdegradationrate, GFPdegradationrate])"
   ]
  },
  {
   "cell_type": "code",
   "execution_count": null,
   "metadata": {},
   "outputs": [],
   "source": [
    "# time interval to solve on\n",
    "tspan = (0.0, 10000.0)\n",
    "\n",
    "#adjustable parameter\n",
    "numPPR = 100\n",
    "\n",
    "#initial conditions at t=0\n",
    "u₀map  = Pair.(species(rn), [100, 0, numPPR, 0, 0, 0, 100, 0, 0, 10000])"
   ]
  },
  {
   "cell_type": "code",
   "execution_count": null,
   "metadata": {},
   "outputs": [],
   "source": [
    "op = ODEProblem(osys, u₀map, tspan, pmap)\n",
    "sol   = solve(op, AutoTsit5(Rosenbrock23()));     # use Tsit5 or Rosenbrock23 ODE solver"
   ]
  },
  {
   "cell_type": "code",
   "execution_count": null,
   "metadata": {},
   "outputs": [],
   "source": [
    "plot(sol.t, [x[10] for x in sol.u], lw=2, legend = false, xguide=\"time (seconds)\", yguide=\"number of molecules\",label=\"GFP\", color=:limegreen)"
   ]
  },
  {
   "cell_type": "markdown",
   "metadata": {},
   "source": [
    "## An OR gate using two PPR editing factors to edit alternative start codons"
   ]
  },
  {
   "cell_type": "markdown",
   "metadata": {},
   "source": [
    "<img src=\"img/OR_gate.png\">"
   ]
  },
  {
   "cell_type": "code",
   "execution_count": null,
   "metadata": {},
   "outputs": [],
   "source": [
    "rn = @reaction_network begin\n",
    "    transcriptionrate, DNA --> DNA + ACGACG\n",
    "    PPRonrate, ACGACG + PPR1 --> ACGACG_PPR1\n",
    "    PPR1offrate, ACGACG_PPR1 --> ACGACG + PPR1\n",
    "    PPRonrate, ACGACG + PPR2 --> ACGACG_PPR2\n",
    "    PPR2offrate, ACGACG_PPR2 --> ACGACG + PPR2\n",
    "    PPRonrate, AUGACG + PPR1 --> AUGACG_PPR1\n",
    "    PPR1offrate, AUGACG_PPR1 --> AUGACG + PPR1\n",
    "    PPRonrate, AUGACG + PPR2 --> AUGACG_PPR2\n",
    "    PPR2offrate, AUGACG_PPR2 --> AUGACG + PPR2\n",
    "    PPRonrate, ACGAUG + PPR1 --> ACGAUG_PPR1\n",
    "    PPR1offrate, ACGAUG_PPR1 --> ACGAUG + PPR1\n",
    "    PPRonrate, ACGAUG + PPR2 --> ACGAUG_PPR2\n",
    "    PPR2offrate, ACGAUG_PPR2 --> ACGAUG + PPR2\n",
    "    PPRonrate, AUGAUG + PPR1 --> AUGAUG_PPR1\n",
    "    PPR1offrate, AUGAUG_PPR1 --> AUGAUG + PPR1\n",
    "    PPRonrate, AUGAUG + PPR2 --> AUGAUG_PPR2\n",
    "    PPR2offrate, AUGAUG_PPR2 --> AUGAUG + PPR2\n",
    "    editingrate, ACGACG_PPR1 --> AUGACG_PPR1\n",
    "    editingrate, ACGACG_PPR2 --> ACGAUG_PPR2\n",
    "    ribosomeonrate, ACGACG + R --> ACGACG_R\n",
    "    ribosomeACGoffrate, ACGACG_R --> ACGACG + R\n",
    "    ACGtranslationrate, ACGACG_R --> GFP + ACGACG + R\n",
    "    ribosomeonrate, AUGACG + R --> AUGACG_R\n",
    "    ribosomeAUGoffrate, AUGACG_R --> AUGACG + R\n",
    "    AUGtranslationrate, AUGACG_R --> GFP + AUGACG + R\n",
    "    ribosomeonrate, ACGAUG + R --> ACGAUG_R\n",
    "    ribosomeAUGoffrate, ACGAUG_R --> ACGAUG + R\n",
    "    AUGtranslationrate, ACGAUG_R --> GFP + ACGAUG + R\n",
    "    ribosomeonrate, AUGAUG + R --> AUGAUG_R\n",
    "    ribosomeAUGoffrate, AUGAUG_R --> AUGAUG + R\n",
    "    AUGtranslationrate, AUGAUG_R --> GFP + AUGAUG + R\n",
    "    RNAdegradationrate, ACGACG --> ∅\n",
    "    RNAdegradationrate, ACGAUG --> ∅\n",
    "    RNAdegradationrate, AUGACG --> ∅\n",
    "    RNAdegradationrate, AUGAUG --> ∅\n",
    "    GFPdegradationrate, GFP --> ∅\n",
    "end\n",
    "osys = convert(ODESystem, rn);"
   ]
  },
  {
   "cell_type": "markdown",
   "metadata": {},
   "source": [
    "The ideal result should look like this:"
   ]
  },
  {
   "cell_type": "code",
   "execution_count": null,
   "metadata": {},
   "outputs": [],
   "source": [
    "heatmap([[0,1] [1,1]], c = palette(:linear_green_5_95_c69_n256), ratio = :equal, xlims=(1,2), ylims=(1,2),\n",
    "    size=(200,200), xticks=[], yticks=[], xlabel=\"[PPR1]\", ylabel=\"[PPR2]\")"
   ]
  },
  {
   "cell_type": "code",
   "execution_count": null,
   "metadata": {},
   "outputs": [],
   "source": [
    "#adjustable parameters\n",
    "PPR1offrate = 1e-3\n",
    "PPR2offrate = 1e-3\n",
    "ribosomeAUGoffrate = 1e-3\n",
    "\n",
    "#fixed parameters\n",
    "transcriptionrate = 1e-2\n",
    "PPRonrate = 1e-2\n",
    "editingrate = 0.1\n",
    "ribosomeonrate = 1e-2\n",
    "AUGtranslationrate = 0.1\n",
    "ribosomeACGoffrate = 10 * ribosomeAUGoffrate\n",
    "ACGtranslationrate = 1e-4\n",
    "RNAdegradationrate = 5e-4\n",
    "GFPdegradationrate = 5e-4\n",
    "\n",
    "p = (transcriptionrate, PPRonrate, PPR1offrate, PPR2offrate, editingrate,\n",
    "        ribosomeonrate, ribosomeACGoffrate, ACGtranslationrate, ribosomeAUGoffrate, AUGtranslationrate,\n",
    "        RNAdegradationrate, GFPdegradationrate);"
   ]
  },
  {
   "cell_type": "code",
   "execution_count": null,
   "metadata": {},
   "outputs": [],
   "source": [
    "#initial conditions at t=0\n",
    "u₀ = [100., 0., 0., 0., 0., 0., 0., 0., 0., 0., 0., 0., 0., 0., 0., 100., 0., 0., 0., 0., 0.]\n",
    "steps = 20\n",
    "results = zeros(Float64,steps,steps)\n",
    "dynamic_range = exp10.(range(0, stop=3, length=steps)) # 1 - 1000 molecules per 'cell'\n",
    "for (i, amount1) in enumerate(dynamic_range), (j, amount2) in enumerate(dynamic_range)\n",
    "    u₀[3] = amount1\n",
    "    u₀[5] = amount2\n",
    "    u₀map  = Pair.(species(rn), u₀)\n",
    "    ssprob = SteadyStateProblem(rn, u₀, p)\n",
    "    sssol  = solve(ssprob, DynamicSS(AutoTsit5(Rosenbrock23())))\n",
    "    results[i,j] = sssol.u[18]\n",
    "end"
   ]
  },
  {
   "cell_type": "code",
   "execution_count": null,
   "metadata": {},
   "outputs": [],
   "source": [
    "heatmap(results, c = palette(:linear_green_5_95_c69_n256), ratio = :equal, \n",
    "    xlims=(0.5,steps+0.5), ylims=(0.5,steps+0.5),\n",
    "    xticks=[], yticks=[], xlabel=\"[PPR1]\", ylabel=\"[PPR2]\")"
   ]
  },
  {
   "cell_type": "markdown",
   "metadata": {},
   "source": [
    "## A NOR gate using two PPR editing factors to edit alternative stop codons"
   ]
  },
  {
   "cell_type": "markdown",
   "metadata": {},
   "source": [
    "<img src=\"img/NOR_gate.png\">"
   ]
  },
  {
   "cell_type": "code",
   "execution_count": null,
   "metadata": {},
   "outputs": [],
   "source": [
    "rn = @reaction_network begin\n",
    "    transcriptionrate, DNA --> DNA + CAACAA\n",
    "    PPRonrate, CAACAA + PPR1 --> CAACAA_PPR1\n",
    "    PPR1offrate, CAACAA_PPR1 --> CAACAA + PPR1\n",
    "    PPRonrate, CAACAA + PPR2 --> CAACAA_PPR2\n",
    "    PPR2offrate, CAACAA_PPR2 --> CAACAA + PPR2\n",
    "    PPRonrate, UAACAA + PPR1 --> UAACAA_PPR1\n",
    "    PPR1offrate, UAACAA_PPR1 --> UAACAA + PPR1\n",
    "    PPRonrate, UAACAA + PPR2 --> UAACAA_PPR2\n",
    "    PPR2offrate, UAACAA_PPR2 --> UAACAA + PPR2\n",
    "    PPRonrate, CAAUAA + PPR1 --> CAAUAA_PPR1\n",
    "    PPR1offrate, CAAUAA_PPR1 --> CAAUAA + PPR1\n",
    "    PPRonrate, CAAUAA + PPR2 --> CAAUAA_PPR2\n",
    "    PPR2offrate, CAAUAA_PPR2 --> CAAUAA + PPR2\n",
    "    PPRonrate, UAAUAA + PPR1 --> UAAUAA_PPR1\n",
    "    PPR1offrate, UAAUAA_PPR1 --> UAAUAA + PPR1\n",
    "    PPRonrate, UAAUAA + PPR2 --> UAAUAA_PPR2\n",
    "    PPR2offrate, UAAUAA_PPR2 --> UAAUAA + PPR2\n",
    "    editingrate, CAACAA_PPR1 --> UAACAA_PPR1\n",
    "    editingrate, CAACAA_PPR2 --> CAAUAA_PPR2\n",
    "    ribosomeonrate, CAACAA + R --> CAACAA_R\n",
    "    ribosomeCAAoffrate, CAACAA_R --> CAACAA + R\n",
    "    CAAtranslationrate, CAACAA_R --> GFP + CAACAA + R\n",
    "    ribosomeonrate, UAACAA + R --> UAACAA_R\n",
    "    ribosomeUAAoffrate, UAACAA_R --> UAACAA + R\n",
    "    ribosomeonrate, CAAUAA + R --> CAAUAA_R\n",
    "    ribosomeUAAoffrate, CAAUAA_R --> CAAUAA + R\n",
    "    ribosomeonrate, UAAUAA + R --> UAAUAA_R\n",
    "    ribosomeUAAoffrate, UAAUAA_R --> UAAUAA + R\n",
    "    RNAdegradationrate, CAACAA --> ∅\n",
    "    RNAdegradationrate, CAAUAA --> ∅\n",
    "    RNAdegradationrate, UAACAA --> ∅\n",
    "    RNAdegradationrate, UAAUAA --> ∅\n",
    "    GFPdegradationrate, GFP --> ∅\n",
    "end\n",
    "osys = convert(ODESystem, rn);"
   ]
  },
  {
   "cell_type": "markdown",
   "metadata": {},
   "source": [
    "The ideal result should look like this:"
   ]
  },
  {
   "cell_type": "code",
   "execution_count": null,
   "metadata": {},
   "outputs": [],
   "source": [
    "heatmap([[1,0] [0,0]], c = palette(:linear_green_5_95_c69_n256), ratio = :equal, xlims=(1,2), ylims=(1,2),\n",
    "    size=(200,200), xticks=[], yticks=[], xlabel=\"[PPR1]\", ylabel=\"[PPR2]\")"
   ]
  },
  {
   "cell_type": "code",
   "execution_count": null,
   "metadata": {},
   "outputs": [],
   "source": [
    "#adjustable parameters\n",
    "PPR1offrate = 1e-3\n",
    "PPR2offrate = 1e-3\n",
    "ribosomeCAAoffrate = 1e-3\n",
    "\n",
    "#fixed parameters\n",
    "transcriptionrate = 1e-2\n",
    "PPRonrate = 1e-2\n",
    "editingrate = 0.1\n",
    "ribosomeonrate = 1e-2\n",
    "CAAtranslationrate = 0.1\n",
    "ribosomeUAAoffrate = 10 * ribosomeCAAoffrate\n",
    "RNAdegradationrate = 5e-4\n",
    "GFPdegradationrate = 5e-4\n",
    "\n",
    "p = (transcriptionrate, PPRonrate, PPR1offrate, PPR2offrate, editingrate,\n",
    "        ribosomeonrate, ribosomeCAAoffrate, CAAtranslationrate, ribosomeUAAoffrate,\n",
    "        RNAdegradationrate, GFPdegradationrate);"
   ]
  },
  {
   "cell_type": "code",
   "execution_count": null,
   "metadata": {},
   "outputs": [],
   "source": [
    "#initial conditions at t=0\n",
    "u₀ = [100., 0., 0., 0., 0., 0., 0., 0., 0., 0., 0., 0., 0., 0., 0., 100., 0., 0., 0., 0., 0.]\n",
    "steps = 20\n",
    "results = zeros(Float64,steps,steps)\n",
    "dynamic_range = exp10.(range(0, stop=3, length=steps)) # 1 - 1000 molecules per 'cell'\n",
    "for (i, amount1) in enumerate(dynamic_range), (j, amount2) in enumerate(dynamic_range)\n",
    "    u₀[3] = amount1\n",
    "    u₀[5] = amount2\n",
    "    u₀map  = Pair.(species(rn), u₀)\n",
    "    ssprob = SteadyStateProblem(rn, u₀, p)\n",
    "    sssol  = solve(ssprob, DynamicSS(AutoTsit5(Rosenbrock23())))\n",
    "    results[i,j] = sssol.u[18]\n",
    "end"
   ]
  },
  {
   "cell_type": "code",
   "execution_count": null,
   "metadata": {},
   "outputs": [],
   "source": [
    "heatmap(results, c = palette(:linear_green_5_95_c69_n256), ratio = :equal, \n",
    "    xlims=(0.5,steps+0.5), ylims=(0.5,steps+0.5),\n",
    "    xticks=[], yticks=[], xlabel=\"[PPR1]\", ylabel=\"[PPR2]\")"
   ]
  },
  {
   "cell_type": "markdown",
   "metadata": {},
   "source": [
    "## An AND gate using two PPR editing factors: a C->U editing factor to create a start codon, and a U->C editing factor to remove a stop codon"
   ]
  },
  {
   "cell_type": "markdown",
   "metadata": {},
   "source": [
    "<img src=\"img/AND_gate.png\">"
   ]
  },
  {
   "cell_type": "code",
   "execution_count": null,
   "metadata": {},
   "outputs": [],
   "source": [
    "rn = @reaction_network begin\n",
    "    transcriptionrate, DNA --> DNA + ACGUAA\n",
    "    PPRonrate, ACGUAA + PPR1 --> ACGUAA_PPR1\n",
    "    PPRonrate, ACGUAA + PPR2 --> ACGUAA_PPR2\n",
    "    PPRonrate, AUGUAA + PPR1 --> AUGUAA_PPR1\n",
    "    PPRonrate, AUGUAA + PPR2 --> AUGUAA_PPR2\n",
    "    PPRonrate, ACGCAA + PPR1 --> ACGCAA_PPR1\n",
    "    PPRonrate, ACGCAA + PPR2 --> ACGCAA_PPR2\n",
    "    PPRonrate, AUGCAA + PPR1 --> AUGCAA_PPR1\n",
    "    PPRonrate, AUGCAA + PPR2 --> AUGCAA_PPR2\n",
    "    PPR1offrate, ACGUAA_PPR1 --> ACGUAA + PPR1\n",
    "    PPR2offrate, ACGUAA_PPR2 --> ACGUAA + PPR2\n",
    "    PPR1offrate, AUGUAA_PPR1 --> AUGUAA + PPR1\n",
    "    PPR2offrate, AUGUAA_PPR2 --> AUGUAA + PPR2\n",
    "    PPR1offrate, ACGCAA_PPR1 --> ACGCAA + PPR1\n",
    "    PPR2offrate, ACGCAA_PPR2 --> ACGCAA + PPR2\n",
    "    PPR1offrate, AUGCAA_PPR1 --> AUGCAA + PPR1\n",
    "    PPR2offrate, AUGCAA_PPR2 --> AUGCAA + PPR2\n",
    "    editingrate, ACGUAA_PPR1 --> AUGUAA_PPR1\n",
    "    editingrate, ACGCAA_PPR1 --> AUGCAA_PPR1\n",
    "    editingrate, ACGUAA_PPR2 --> ACGCAA_PPR2\n",
    "    editingrate, AUGUAA_PPR2 --> AUGCAA_PPR2\n",
    "    ribosomeonrate, ACGUAA + R --> ACGUAA_R\n",
    "    ribosomeonrate, ACGCAA + R --> ACGCAA_R\n",
    "    ribosomeonrate, AUGUAA + R --> AUGUAA_R\n",
    "    ribosomeonrate, AUGCAA + R --> AUGCAA_R\n",
    "    ribosomeUAAoffrate, ACGUAA_R --> ACGUAA + R\n",
    "    ribosomeUAAoffrate, AUGUAA_R --> AUGUAA + R\n",
    "    ribosomeACGoffrate, ACGCAA_R --> ACGCAA + R\n",
    "    ribosomeAUGoffrate, AUGCAA_R --> AUGCAA + R\n",
    "    ACGtranslationrate, ACGCAA_R --> GFP + ACGCAA + R\n",
    "    AUGtranslationrate, AUGCAA_R --> GFP + AUGCAA + R\n",
    "    RNAdegradationrate, ACGCAA --> ∅\n",
    "    RNAdegradationrate, ACGUAA --> ∅\n",
    "    RNAdegradationrate, AUGUAA --> ∅\n",
    "    RNAdegradationrate, AUGCAA --> ∅\n",
    "    GFPdegradationrate, GFP --> ∅\n",
    "end\n",
    "osys = convert(ODESystem, rn);"
   ]
  },
  {
   "cell_type": "markdown",
   "metadata": {},
   "source": [
    "The ideal result should look like this:"
   ]
  },
  {
   "cell_type": "code",
   "execution_count": null,
   "metadata": {},
   "outputs": [],
   "source": [
    "heatmap([[0,0] [0,1]], c = palette(:linear_green_5_95_c69_n256), ratio = :equal, xlims=(1,2), ylims=(1,2),\n",
    "    size=(200,200), xticks=[], yticks=[], xlabel=\"[PPR1]\", ylabel=\"[PPR2]\")"
   ]
  },
  {
   "cell_type": "code",
   "execution_count": null,
   "metadata": {},
   "outputs": [],
   "source": [
    "#adjustable parameters\n",
    "PPR1offrate = 1e-3\n",
    "PPR2offrate = 1e-3\n",
    "ribosomeAUGoffrate = ribosomeCAAoffrate = 1e-3\n",
    "\n",
    "#fixed parameters\n",
    "transcriptionrate = 1e-2\n",
    "PPRonrate = 1e-2\n",
    "editingrate = 0.1\n",
    "ribosomeonrate = 1e-2\n",
    "AUGtranslationrate = 0.1\n",
    "ribosomeACGoffrate = 10 * ribosomeAUGoffrate\n",
    "ribosomeUAAoffrate = 10 * ribosomeCAAoffrate\n",
    "ACGtranslationrate = 1e-4\n",
    "RNAdegradationrate = 5e-4\n",
    "GFPdegradationrate = 5e-4\n",
    "\n",
    "p = (transcriptionrate, PPRonrate, PPR1offrate, PPR2offrate, editingrate,\n",
    "        ribosomeonrate, ribosomeUAAoffrate, ribosomeACGoffrate, ribosomeAUGoffrate, ACGtranslationrate, AUGtranslationrate,\n",
    "        RNAdegradationrate, GFPdegradationrate);"
   ]
  },
  {
   "cell_type": "code",
   "execution_count": null,
   "metadata": {},
   "outputs": [],
   "source": [
    "#initial conditions at t=0\n",
    "u₀ = zeros(Float64, length(species(rn)))\n",
    "#set DNA to 100\n",
    "u₀[1] = 100\n",
    "#set ribosomes to 100\n",
    "u₀[16] = 100\n",
    "steps = 20\n",
    "results = zeros(Float64,steps,steps)\n",
    "dynamic_range = exp10.(range(0, stop=3, length=steps)) # 1 - 1000 molecules per 'cell'\n",
    "for (i, amount1) in enumerate(dynamic_range), (j, amount2) in enumerate(dynamic_range)\n",
    "    #PPR1\n",
    "    u₀[3] = amount1\n",
    "    #PPR2\n",
    "    u₀[5] = amount2\n",
    "    ssprob = SteadyStateProblem(rn, u₀, p)\n",
    "    sssol  = solve(ssprob, DynamicSS(AutoTsit5(Rosenbrock23())))\n",
    "    #GFP\n",
    "    results[i,j] = sssol.u[21]\n",
    "end"
   ]
  },
  {
   "cell_type": "code",
   "execution_count": null,
   "metadata": {},
   "outputs": [],
   "source": [
    "heatmap(results, c = palette(:linear_green_5_95_c69_n256), ratio = :equal, \n",
    "    xlims=(0.5,steps+0.5), ylims=(0.5,steps+0.5),\n",
    "    xticks=[], yticks=[], xguide=\"[PPR1]\", yguide=\"[PPR2]\")"
   ]
  },
  {
   "cell_type": "markdown",
   "metadata": {},
   "source": [
    "## A NAND gate using two PPR U->C editing factors to remove adjacent start codons"
   ]
  },
  {
   "cell_type": "markdown",
   "metadata": {},
   "source": [
    "<img src=\"img/NAND_gate.png\">"
   ]
  },
  {
   "cell_type": "code",
   "execution_count": null,
   "metadata": {},
   "outputs": [],
   "source": [
    "rn = @reaction_network begin\n",
    "    transcriptionrate, DNA --> DNA + AUGAUG\n",
    "    PPRonrate, AUGAUG + PPR1 --> AUGAUG_PPR1\n",
    "    PPRonrate, AUGAUG + PPR2 --> AUGAUG_PPR2\n",
    "    PPRonrate, ACGAUG + PPR1 --> ACGAUG_PPR1\n",
    "    PPRonrate, ACGAUG + PPR2 --> ACGAUG_PPR2\n",
    "    PPRonrate, AUGACG + PPR1 --> AUGACG_PPR1\n",
    "    PPRonrate, AUGACG + PPR2 --> AUGACG_PPR2\n",
    "    PPRonrate, ACGACG + PPR1 --> ACGACG_PPR1\n",
    "    PPRonrate, ACGACG + PPR2 --> ACGACG_PPR2\n",
    "    PPR1offrate, ACGAUG_PPR1 --> ACGAUG + PPR1\n",
    "    PPR2offrate, ACGAUG_PPR2 --> ACGAUG + PPR2\n",
    "    PPR1offrate, AUGAUG_PPR1 --> AUGAUG + PPR1\n",
    "    PPR2offrate, AUGAUG_PPR2 --> AUGAUG + PPR2\n",
    "    PPR1offrate, ACGACG_PPR1 --> ACGACG + PPR1\n",
    "    PPR2offrate, ACGACG_PPR2 --> ACGACG + PPR2\n",
    "    PPR1offrate, AUGACG_PPR1 --> AUGACG + PPR1\n",
    "    PPR2offrate, AUGACG_PPR2 --> AUGACG + PPR2\n",
    "    editingrate, AUGAUG_PPR1 --> ACGAUG_PPR1\n",
    "    editingrate, AUGACG_PPR1 --> ACGACG_PPR1\n",
    "    editingrate, ACGAUG_PPR2 --> ACGACG_PPR2\n",
    "    editingrate, AUGAUG_PPR2 --> AUGACG_PPR2\n",
    "    ribosomeonrate, ACGAUG + R --> ACGAUG_R\n",
    "    ribosomeonrate, ACGACG + R --> ACGACG_R\n",
    "    ribosomeonrate, AUGAUG + R --> AUGAUG_R\n",
    "    ribosomeonrate, AUGACG + R --> AUGACG_R\n",
    "    ribosomeACGoffrate, ACGACG_R --> ACGACG + R\n",
    "    ribosomeAUGoffrate, AUGACG_R --> AUGACG + R\n",
    "    ribosomeAUGoffrate, AUGAUG_R --> AUGAUG + R\n",
    "    ribosomeAUGoffrate, ACGAUG_R --> ACGAUG + R\n",
    "    ACGtranslationrate, ACGACG_R --> GFP + ACGACG + R\n",
    "    AUGtranslationrate, AUGACG_R --> GFP + AUGACG + R\n",
    "    AUGtranslationrate, ACGAUG_R --> GFP + ACGAUG + R\n",
    "    AUGtranslationrate, AUGAUG_R --> GFP + AUGAUG + R\n",
    "    RNAdegradationrate, ACGACG --> ∅\n",
    "    RNAdegradationrate, ACGAUG --> ∅\n",
    "    RNAdegradationrate, AUGAUG --> ∅\n",
    "    RNAdegradationrate, AUGACG --> ∅\n",
    "    GFPdegradationrate, GFP --> ∅\n",
    "end\n",
    "osys = convert(ODESystem, rn);"
   ]
  },
  {
   "cell_type": "code",
   "execution_count": null,
   "metadata": {},
   "outputs": [],
   "source": [
    "#adjustable parameters\n",
    "PPR1offrate = 1e-3\n",
    "PPR2offrate = 1e-3\n",
    "ribosomeAUGoffrate = 1e-3\n",
    "\n",
    "#fixed parameters\n",
    "transcriptionrate = 1e-2\n",
    "PPRonrate = 1e-2\n",
    "editingrate = 0.1\n",
    "ribosomeonrate = 1e-2\n",
    "AUGtranslationrate = 0.1\n",
    "ribosomeACGoffrate = 10 * ribosomeAUGoffrate\n",
    "ACGtranslationrate = 0\n",
    "RNAdegradationrate = 5e-4\n",
    "GFPdegradationrate = 5e-4\n",
    "\n",
    "p = (transcriptionrate, PPRonrate, PPR1offrate, PPR2offrate, editingrate,\n",
    "        ribosomeonrate, ribosomeACGoffrate, ribosomeAUGoffrate, ACGtranslationrate, AUGtranslationrate,\n",
    "        RNAdegradationrate, GFPdegradationrate);"
   ]
  },
  {
   "cell_type": "markdown",
   "metadata": {},
   "source": [
    "The ideal result should look like this:"
   ]
  },
  {
   "cell_type": "code",
   "execution_count": null,
   "metadata": {},
   "outputs": [],
   "source": [
    "heatmap([[1,1] [1,0]], c = palette(:linear_green_5_95_c69_n256), ratio = :equal, xlims=(1,2), ylims=(1,2),\n",
    "    size=(200,200), xticks=[], yticks=[], xlabel=\"[PPR1]\", ylabel=\"[PPR2]\")"
   ]
  },
  {
   "cell_type": "code",
   "execution_count": null,
   "metadata": {},
   "outputs": [],
   "source": [
    "#initial conditions at t=0\n",
    "u₀ = zeros(Float64, length(species(rn)))\n",
    "#set DNA to 100\n",
    "u₀[1] = 100\n",
    "#set ribosomes to 100\n",
    "u₀[16] = 100\n",
    "steps = 20\n",
    "results = zeros(Float64,steps,steps)\n",
    "dynamic_range = exp10.(range(0, stop=3, length=steps)) # 1 - 1000 molecules per 'cell'\n",
    "for (i, amount1) in enumerate(dynamic_range), (j, amount2) in enumerate(dynamic_range)\n",
    "    #PPR1\n",
    "    u₀[3] = amount1\n",
    "    #PPR2\n",
    "    u₀[5] = amount2\n",
    "    ssprob = SteadyStateProblem(rn, u₀, p)\n",
    "    sssol  = solve(ssprob, DynamicSS(AutoTsit5(Rosenbrock23())))\n",
    "    #GFP\n",
    "    results[i,j] = sssol.u[21]\n",
    "end"
   ]
  },
  {
   "cell_type": "code",
   "execution_count": null,
   "metadata": {},
   "outputs": [],
   "source": [
    "heatmap(results, c = palette(:linear_green_5_95_c69_n256), ratio = :equal, \n",
    "    xlims=(0.5,steps+0.5), ylims=(0.5,steps+0.5),\n",
    "    xticks=[], yticks=[], xguide=\"[PPR1]\", yguide=\"[PPR2]\")"
   ]
  }
 ],
 "metadata": {
  "kernelspec": {
   "display_name": "Julia 1.9.2",
   "language": "julia",
   "name": "julia-1.9"
  },
  "language_info": {
   "file_extension": ".jl",
   "mimetype": "application/julia",
   "name": "julia",
   "version": "1.9.2"
  }
 },
 "nbformat": 4,
 "nbformat_minor": 4
}
